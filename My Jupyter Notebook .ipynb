{
  "nbformat": 4,
  "nbformat_minor": 0,
  "metadata": {
    "colab": {
      "provenance": [],
      "authorship_tag": "ABX9TyOS1jWickjtK6U89N+MLBIB",
      "include_colab_link": true
    },
    "kernelspec": {
      "name": "python3",
      "display_name": "Python 3"
    },
    "language_info": {
      "name": "python"
    }
  },
  "cells": [
    {
      "cell_type": "markdown",
      "metadata": {
        "id": "view-in-github",
        "colab_type": "text"
      },
      "source": [
        "<a href=\"https://colab.research.google.com/github/Mohamed-Said28/testrepo/blob/main/My%20Jupyter%20Notebook%20.ipynb\" target=\"_parent\"><img src=\"https://colab.research.google.com/assets/colab-badge.svg\" alt=\"Open In Colab\"/></a>"
      ]
    },
    {
      "cell_type": "code",
      "execution_count": 3,
      "metadata": {
        "id": "oe9OkE14YeQM"
      },
      "outputs": [],
      "source": []
    },
    {
      "cell_type": "markdown",
      "source": [
        "My Jupyter Notebook on IBM Watson Studio"
      ],
      "metadata": {
        "id": "ID_mKUzFYwPt"
      }
    },
    {
      "cell_type": "code",
      "source": [],
      "metadata": {
        "id": "B6jdbgoDZAIL"
      },
      "execution_count": 3,
      "outputs": []
    },
    {
      "cell_type": "markdown",
      "source": [
        "**Mohamed Said Hassan Abdelraheem, Data Analyst**"
      ],
      "metadata": {
        "id": "084DdbCoZPOm"
      }
    },
    {
      "cell_type": "markdown",
      "source": [],
      "metadata": {
        "id": "oS8dtochcaIz"
      }
    },
    {
      "cell_type": "code",
      "source": [],
      "metadata": {
        "id": "IAmtzJB0cZrn"
      },
      "execution_count": 3,
      "outputs": []
    },
    {
      "cell_type": "markdown",
      "source": [
        "I am interested in data science because i like extract useful information from row data and help my company making good decisions"
      ],
      "metadata": {
        "id": "jqGiuCMGb-JT"
      }
    },
    {
      "cell_type": "code",
      "source": [],
      "metadata": {
        "id": "PEhG29LbZauV"
      },
      "execution_count": 3,
      "outputs": []
    },
    {
      "cell_type": "markdown",
      "source": [
        "my code will take from the user 2 values and then identfy which of them is bigger"
      ],
      "metadata": {
        "id": "iLji5C1LakVI"
      }
    },
    {
      "cell_type": "code",
      "source": [
        "x=int(input('enter value number 1 : '))\n",
        "y=int(input('enter value number 2 : '))\n",
        "if x>y:\n",
        "  print('value number 1 is bigger than 2')\n",
        "else:\n",
        "  print('value number 2 is bigger than 1')"
      ],
      "metadata": {
        "colab": {
          "base_uri": "https://localhost:8080/"
        },
        "id": "V81gvaq3a2L8",
        "outputId": "14f39a30-7e14-4911-fa57-123f9ac4cbcb"
      },
      "execution_count": 5,
      "outputs": [
        {
          "output_type": "stream",
          "name": "stdout",
          "text": [
            "enter value number 1 : 10\n",
            "enter value number 2 : 25\n",
            "value number 2 is bigger than 1\n"
          ]
        }
      ]
    }
  ]
}