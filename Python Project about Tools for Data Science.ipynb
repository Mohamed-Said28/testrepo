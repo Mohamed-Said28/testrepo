{
 "cells": [
  {
   "cell_type": "markdown",
   "id": "b16fdde7",
   "metadata": {},
   "source": [
    "Exercise 2 answer : Title:python project about tools for data science"
   ]
  },
  {
   "cell_type": "markdown",
   "id": "c65c5afe",
   "metadata": {},
   "source": [
    "Exercise 3 answer: introdution: this is a simple project about some basic information about the data science tools"
   ]
  },
  {
   "cell_type": "markdown",
   "id": "04e95ed9",
   "metadata": {},
   "source": [
    "Exercise 4 answer: some of Data science language are : Python\n",
    "R\n",
    "SQL\n",
    "Java\n",
    "Julia\n",
    "Scala\n",
    "C/C++\n",
    "JavaScript\n",
    "Swift\n",
    "Go\n",
    "MATLAB\n",
    "SAS"
   ]
  },
  {
   "cell_type": "markdown",
   "id": "5258d285",
   "metadata": {},
   "source": [
    "Exercise 5 answer :some of Data science libiraries are : TensorFlow\n",
    "NumPy\n",
    "SciPy \n",
    "Pandas\n",
    "Matplotlib \n",
    "Keras\n",
    "SciKit-Learn\n",
    "PyTorch\n",
    "Scrapy\n",
    "BeautifulSoup\n",
    "LightGBM\n",
    "ELI5\n",
    "Theano\n",
    "NuPIC\n",
    "Ramp\n",
    "Pipenv\n",
    "Bob\n",
    "PyBrain\n",
    "Caffe2\n",
    "Chainer"
   ]
  },
  {
   "cell_type": "markdown",
   "id": "2e8db41f",
   "metadata": {},
   "source": [
    "Exercise 6 Answer: some of Data science tools are: Apache Spark, D3.js, IBM SPSS, Julia, Jupyter Notebook, Keras, Matlab, Matplotlib, NumPy, Pandas, Python, PyTorch"
   ]
  },
  {
   "cell_type": "markdown",
   "id": "55b069d4",
   "metadata": {},
   "source": [
    "Exercise 7 answer: An arithmetic expression is an expression built up using numbers, arithmetic operators (such as +, , -, / and ) and parentheses, \"(\" and \")\".    Arithmetic expressions may also make use of exponents, for example, writing  23as an abreviation for ((22)2)."
   ]
  },
  {
   "cell_type": "code",
   "execution_count": 2,
   "id": "05c07efa",
   "metadata": {},
   "outputs": [
    {
     "name": "stdout",
     "output_type": "stream",
     "text": [
      "20\n",
      "9\n"
     ]
    }
   ],
   "source": [
    "#Exercise 8 answer: \n",
    "x=4\n",
    "y=5\n",
    "\n",
    "print(x*y)\n",
    "print(x+y)"
   ]
  },
  {
   "cell_type": "code",
   "execution_count": 5,
   "id": "3c469fa2",
   "metadata": {},
   "outputs": [
    {
     "name": "stdout",
     "output_type": "stream",
     "text": [
      "120 minutes is equal to 2.0 hours.\n"
     ]
    }
   ],
   "source": [
    "#Exercise 9 answer:\n",
    "minutes = 120  #for example\n",
    "hours = minutes / 60\n",
    "print(f\"{minutes} minutes is equal to {hours} hours.\")"
   ]
  },
  {
   "cell_type": "markdown",
   "id": "3df0d12b",
   "metadata": {},
   "source": [
    "Exercise 10 answer: \n",
    "learing python , pandas , numpy, matplot, data analysis"
   ]
  },
  {
   "cell_type": "markdown",
   "id": "287ee023",
   "metadata": {},
   "source": [
    "Exercise 11 answer: Mohamed Said Hassan Abdelraheem"
   ]
  },
  {
   "cell_type": "code",
   "execution_count": null,
   "id": "f31dcc9f",
   "metadata": {},
   "outputs": [],
   "source": []
  }
 ],
 "metadata": {
  "kernelspec": {
   "display_name": "Python 3 (ipykernel)",
   "language": "python",
   "name": "python3"
  },
  "language_info": {
   "codemirror_mode": {
    "name": "ipython",
    "version": 3
   },
   "file_extension": ".py",
   "mimetype": "text/x-python",
   "name": "python",
   "nbconvert_exporter": "python",
   "pygments_lexer": "ipython3",
   "version": "3.9.12"
  }
 },
 "nbformat": 4,
 "nbformat_minor": 5
}
